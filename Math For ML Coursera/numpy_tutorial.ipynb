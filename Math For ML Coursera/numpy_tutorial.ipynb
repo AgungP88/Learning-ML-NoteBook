== Introduction to Numpy

NumPy is the fundamental package for scientific computing in Python. It
is a Python library that provides a multidimensional array object. In
this course, we will be using NumPy for linear algebra.

If you are interested in learning more about NumPy, you can find the
user guide and reference at https://docs.scipy.org/doc/numpy/index.html

Let’s first import the NumPy package


+*In[1]:*+
[source, ipython3]
----
import numpy as np # we commonly use the np abbreviation when referring to numpy
----

== Creating Numpy Arrays

New arrays can be made in several ways. We can take an existing list and
convert it to a numpy array:


+*In[2]:*+
[source, ipython3]
----
a = np.array([1,2,3])
a
----


+*Out[2]:*+
----array([1, 2, 3])----

There are also functions for creating arrays with ones and zeros


+*In[3]:*+
[source, ipython3]
----
np.zeros((2,2))
----


+*Out[3]:*+
----array([[0., 0.],
       [0., 0.]])----


+*In[4]:*+
[source, ipython3]
----
np.ones((3,2))
----


+*Out[4]:*+
----array([[1., 1.],
       [1., 1.],
       [1., 1.]])----

== Accessing Numpy Arrays

You can use the common square bracket syntax for accessing elements of a
numpy array


+*In[5]:*+
[source, ipython3]
----
A = np.arange(9).reshape(3,3)
print(A)
----


+*Out[5]:*+
----
[[0 1 2]
 [3 4 5]
 [6 7 8]]
----


+*In[6]:*+
[source, ipython3]
----
print(A[0]) # Access the first row of A
print(A[0, 1]) # Access the second item of the first row
print(A[:, 1]) # Access the second column
----


+*Out[6]:*+
----
[0 1 2]
1
[1 4 7]
----

== Operations on Numpy Arrays

You can use the operations ’*`,'**`,'', `+' and `-' on numpy arrays and
they operate elementwise.


+*In[7]:*+
[source, ipython3]
----
a = np.array([[1,2], 
              [2,3]])
b = np.array([[4,5],
              [6,7]])
----


+*In[8]:*+
[source, ipython3]
----
print(a + b)
----


+*Out[8]:*+
----
[[ 5  7]
 [ 8 10]]
----


+*In[9]:*+
[source, ipython3]
----
print(a - b)
----


+*Out[9]:*+
----
[[-3 -3]
 [-4 -4]]
----


+*In[10]:*+
[source, ipython3]
----
print(a * b)
----


+*Out[10]:*+
----
[[ 4 10]
 [12 21]]
----


+*In[11]:*+
[source, ipython3]
----
print(a / b)
----


+*Out[11]:*+
----
[[0.25       0.4       ]
 [0.33333333 0.42857143]]
----


+*In[12]:*+
[source, ipython3]
----
print(a**2)
----


+*Out[12]:*+
----
[[1 4]
 [4 9]]
----

There are also some commonly used function For example, you can sum up
all elements of an array


+*In[13]:*+
[source, ipython3]
----
print(a)
print(np.sum(a))
----


+*Out[13]:*+
----
[[1 2]
 [2 3]]
8
----

Or sum along the first dimension


+*In[14]:*+
[source, ipython3]
----
np.sum(a, axis=0)
----


+*Out[14]:*+
----array([3, 5])----

There are many other functions in numpy, and some of them *will be
useful* for your programming assignments. As an exercise, check out the
documentation for these routines at
https://docs.scipy.org/doc/numpy/reference/routines.html and see if you
can find the documentation for `np.sum` and `np.reshape`.

== Linear Algebra

In this course, we use the numpy arrays for linear algebra. We usually
use 1D arrays to represent vectors and 2D arrays to represent matrices


+*In[15]:*+
[source, ipython3]
----
A = np.array([[2,4], 
             [6,8]])
----

You can take transposes of matrices with `A.T`


+*In[16]:*+
[source, ipython3]
----
print('A\n', A)
print('A.T\n', A.T)
----


+*Out[16]:*+
----
A
 [[2 4]
 [6 8]]
A.T
 [[2 6]
 [4 8]]
----

Note that taking the transpose of a 1D array has *NO* effect.


+*In[17]:*+
[source, ipython3]
----
a = np.ones(3)
print(a)
print(a.shape)
print(a.T)
print(a.T.shape)

----


+*Out[17]:*+
----
[1. 1. 1.]
(3,)
[1. 1. 1.]
(3,)
----

But it does work if you have a 2D array of shape (3,1)


+*In[18]:*+
[source, ipython3]
----
a = np.ones((3,1))
print(a)
print(a.shape)
print(a.T)
print(a.T.shape)
----


+*Out[18]:*+
----
[[1.]
 [1.]
 [1.]]
(3, 1)
[[1. 1. 1.]]
(1, 3)
----

== Dot product

We can compute the dot product between two vectors with np.dot


+*In[19]:*+
[source, ipython3]
----
x = np.array([1,2,3])
y = np.array([4,5,6])
np.dot(x, y)
----


+*Out[19]:*+
----32----

We can compute the matrix-matrix product, matrix-vector product too. In
Python 3, this is conveniently expressed with the @ syntax


+*In[20]:*+
[source, ipython3]
----
A = np.eye(3) # You can create an identity matrix with np.eye
B = np.random.randn(3,3)
x = np.array([1,2,3])
----


+*In[21]:*+
[source, ipython3]
----
# Matrix-Matrix product
A @ B
----


+*Out[21]:*+
----array([[-1.05826656, -0.93286612, -1.9916257 ],
       [ 0.83246878, -1.22764005, -0.82571774],
       [ 2.01078203,  0.25086072,  1.06346636]])----


+*In[22]:*+
[source, ipython3]
----
# Matrix-vector product
A @ x
----


+*Out[22]:*+
----array([1., 2., 3.])----

Sometimes, we might want to compute certain properties of the matrices.
For example, we might be interested in a matrix’s determinant,
eigenvalues/eigenvectors. Numpy ships with the `numpy.linalg` package to
do these things on 2D arrays (matrices).


+*In[23]:*+
[source, ipython3]
----
from numpy import linalg
----


+*In[24]:*+
[source, ipython3]
----
# This computes the determinant
linalg.det(A)
----


+*Out[24]:*+
----1.0----


+*In[25]:*+
[source, ipython3]
----
# This computes the eigenvalues and eigenvectors
eigenvalues, eigenvectors = linalg.eig(A)
print("The eigenvalues are\n", eigenvalues)
print("The eigenvectors are\n", eigenvectors)
----


+*Out[25]:*+
----
The eigenvalues are
 [1. 1. 1.]
The eigenvectors are
 [[1. 0. 0.]
 [0. 1. 0.]
 [0. 0. 1.]]
----

== Miscellaneous

== Time your code

One tip that is really useful is to use the magic commannd `%time` to
time the execution time of your function.


+*In[26]:*+
[source, ipython3]
----
%time np.abs(A)
----


+*Out[26]:*+
----
CPU times: user 15 µs, sys: 0 ns, total: 15 µs
Wall time: 18.1 µs
array([[1., 0., 0.],
       [0., 1., 0.],
       [0., 0., 1.]])----


+*In[ ]:*+
[source, ipython3]
----

----
